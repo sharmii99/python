{
  "nbformat": 4,
  "nbformat_minor": 0,
  "metadata": {
    "colab": {
      "name": "Task_File.ipynb",
      "provenance": []
    },
    "kernelspec": {
      "name": "python3",
      "display_name": "Python 3"
    },
    "language_info": {
      "name": "python"
    }
  },
  "cells": [
    {
      "cell_type": "code",
      "execution_count": 2,
      "metadata": {
        "colab": {
          "base_uri": "https://localhost:8080/"
        },
        "id": "1pmUyuLYgtqi",
        "outputId": "08d86cfa-2128-42da-f282-803b2549371a"
      },
      "outputs": [
        {
          "output_type": "stream",
          "name": "stdout",
          "text": [
            "Writing greaternumberscript.py\n"
          ]
        }
      ],
      "source": [
        "%%writefile greaternumberscript.py\n",
        "#Take two numbers from user to compare\n",
        "num1 = int(input(\"Enter first number: \"))\n",
        "num2 = int(input(\"Enter second number: \"))\n",
        "#compare both the numbers given here\n",
        "\n",
        "if num1>= num2:\n",
        "  if num1 == num2:\n",
        "    print (\"Both numbers are equal.\")\n",
        "  else:\n",
        "    print (num1)\n",
        "else: print(num2)"
      ]
    },
    {
      "cell_type": "code",
      "source": [
        "%%writefile smallernumberscript.py\n",
        "#Take two numbers from user to compare\n",
        "num1 = int(input(\"Enter first number: \"))\n",
        "num2 = int(input(\"Enter second number: \"))\n",
        "#compare both the numbers given here\n",
        "\n",
        "if num1<= num2:\n",
        "  if num1 == num2:\n",
        "    print (\"Both numbers are equal.\")\n",
        "  else:\n",
        "    print (num1)\n",
        "else: print(num2)"
      ],
      "metadata": {
        "colab": {
          "base_uri": "https://localhost:8080/"
        },
        "id": "HBzL2tmmhN5j",
        "outputId": "429e0a95-47c5-418c-c1ea-b52ffcda3f16"
      },
      "execution_count": 3,
      "outputs": [
        {
          "output_type": "stream",
          "name": "stdout",
          "text": [
            "Writing smallernumberscript.py\n"
          ]
        }
      ]
    }
  ]
}
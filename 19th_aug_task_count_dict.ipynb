{
  "nbformat": 4,
  "nbformat_minor": 0,
  "metadata": {
    "colab": {
      "name": "19th aug task count_dict.ipynb",
      "provenance": []
    },
    "kernelspec": {
      "name": "python3",
      "display_name": "Python 3"
    },
    "language_info": {
      "name": "python"
    }
  },
  "cells": [
    {
      "cell_type": "code",
      "execution_count": 5,
      "metadata": {
        "id": "mMduzaaf3ya5",
        "colab": {
          "base_uri": "https://localhost:8080/"
        },
        "outputId": "d23eb4df-a845-48ee-8b85-4381276e6ebe"
      },
      "outputs": [
        {
          "output_type": "stream",
          "name": "stdout",
          "text": [
            "enter the sentence here: Hey, I am Sharmita. Am I early today?\n",
            "Dictionary Items  :   {'Hey,': 1, 'I': 2, 'am': 1, 'Sharmita.': 1, 'Am': 1, 'early': 1, 'today?': 1}\n"
          ]
        }
      ],
      "source": [
        "string = input(\"enter the sentence here: \") \n",
        "splitted_words = []\n",
        "\n",
        "splitted_words = string.split()\n",
        "frequency = [splitted_words.count(i) for i in splitted_words]\n",
        "\n",
        "count_dict = dict(zip(splitted_words, frequency))\n",
        "print(\"Dictionary Items  :  \",  count_dict)"
      ]
    },
    {
      "cell_type": "code",
      "source": [
        ""
      ],
      "metadata": {
        "id": "nHbszVwb4Rx5"
      },
      "execution_count": null,
      "outputs": []
    }
  ]
}
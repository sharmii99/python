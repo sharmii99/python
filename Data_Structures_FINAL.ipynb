{
  "nbformat": 4,
  "nbformat_minor": 0,
  "metadata": {
    "colab": {
      "name": "Data Structures_FINAL.ipynb",
      "provenance": [],
      "collapsed_sections": []
    },
    "kernelspec": {
      "name": "python3",
      "display_name": "Python 3"
    },
    "language_info": {
      "name": "python"
    }
  },
  "cells": [
    {
      "cell_type": "markdown",
      "source": [
        "# **Various Types of Data Structure in Python**"
      ],
      "metadata": {
        "id": "0z0IRRBq_OPj"
      }
    },
    {
      "cell_type": "markdown",
      "source": [
        "##**1. List**"
      ],
      "metadata": {
        "id": "5PEjMW3v_uCh"
      }
    },
    {
      "cell_type": "code",
      "source": [
        "A = [11, \"Sharmita\", 3.65, 'Apple', True, False, \"Cherry\", \"Banana\"]\n",
        "A"
      ],
      "metadata": {
        "colab": {
          "base_uri": "https://localhost:8080/"
        },
        "id": "Pv05ETO2_1P-",
        "outputId": "2182dd68-c2be-4e03-a63d-708ca2f5dd55"
      },
      "execution_count": null,
      "outputs": [
        {
          "output_type": "execute_result",
          "data": {
            "text/plain": [
              "[11, 'Sharmita', 3.65, 'Apple', True, False, 'Cherry', 'Banana']"
            ]
          },
          "metadata": {},
          "execution_count": 2
        }
      ]
    },
    {
      "cell_type": "markdown",
      "source": [
        "####**Indexing (Left to Right)**"
      ],
      "metadata": {
        "id": "W4Q5XOr9ALOk"
      }
    },
    {
      "cell_type": "code",
      "source": [
        "print(A[2]) #to print the 3rd element from the left"
      ],
      "metadata": {
        "colab": {
          "base_uri": "https://localhost:8080/"
        },
        "id": "tlTyL9PqAbuo",
        "outputId": "e552be37-2799-4ea8-ce9b-61fae0205797"
      },
      "execution_count": null,
      "outputs": [
        {
          "output_type": "stream",
          "name": "stdout",
          "text": [
            "3.65\n"
          ]
        }
      ]
    },
    {
      "cell_type": "markdown",
      "source": [
        "####**Indexing Right to Left**"
      ],
      "metadata": {
        "id": "sSpAPAqwAynA"
      }
    },
    {
      "cell_type": "code",
      "source": [
        "print(A[-2]) #to print the 2nd element from the right"
      ],
      "metadata": {
        "colab": {
          "base_uri": "https://localhost:8080/"
        },
        "id": "SzjY3HUbA8QU",
        "outputId": "aa869096-cc98-44af-81e9-6ae5ebb9f714"
      },
      "execution_count": null,
      "outputs": [
        {
          "output_type": "stream",
          "name": "stdout",
          "text": [
            "Cherry\n"
          ]
        }
      ]
    },
    {
      "cell_type": "markdown",
      "source": [
        "This means the Lists are ordered."
      ],
      "metadata": {
        "id": "qdFDZR8mBAbk"
      }
    },
    {
      "cell_type": "markdown",
      "source": [
        "####**Adding an element**"
      ],
      "metadata": {
        "id": "Wm-G9_XvBpFQ"
      }
    },
    {
      "cell_type": "code",
      "source": [
        "A[5]= \"SpiderMan\" # adding this element in the 5th position from the left"
      ],
      "metadata": {
        "id": "7fgH2EznBa5V"
      },
      "execution_count": null,
      "outputs": []
    },
    {
      "cell_type": "code",
      "source": [
        "A"
      ],
      "metadata": {
        "colab": {
          "base_uri": "https://localhost:8080/"
        },
        "id": "3_1WEkPbBiR_",
        "outputId": "4707ff9d-9345-4884-dcb8-d45021664254"
      },
      "execution_count": null,
      "outputs": [
        {
          "output_type": "execute_result",
          "data": {
            "text/plain": [
              "[11, 'Sharmita', 3.65, 'Apple', True, 'SpiderMan', 'Cherry', 'Banana']"
            ]
          },
          "metadata": {},
          "execution_count": 9
        }
      ]
    },
    {
      "cell_type": "markdown",
      "source": [
        "This means that List is also editable."
      ],
      "metadata": {
        "id": "-gL8JjABBjMm"
      }
    },
    {
      "cell_type": "markdown",
      "source": [
        "####**To check all the methods available for Lst**"
      ],
      "metadata": {
        "id": "A0iZiiV0Bxaf"
      }
    },
    {
      "cell_type": "code",
      "source": [
        "dir(A)"
      ],
      "metadata": {
        "colab": {
          "base_uri": "https://localhost:8080/"
        },
        "id": "CyDMgQUrCEEy",
        "outputId": "dac7de13-737f-40fb-8292-c44fcff1a26f"
      },
      "execution_count": null,
      "outputs": [
        {
          "output_type": "execute_result",
          "data": {
            "text/plain": [
              "['__add__',\n",
              " '__class__',\n",
              " '__contains__',\n",
              " '__delattr__',\n",
              " '__delitem__',\n",
              " '__dir__',\n",
              " '__doc__',\n",
              " '__eq__',\n",
              " '__format__',\n",
              " '__ge__',\n",
              " '__getattribute__',\n",
              " '__getitem__',\n",
              " '__gt__',\n",
              " '__hash__',\n",
              " '__iadd__',\n",
              " '__imul__',\n",
              " '__init__',\n",
              " '__init_subclass__',\n",
              " '__iter__',\n",
              " '__le__',\n",
              " '__len__',\n",
              " '__lt__',\n",
              " '__mul__',\n",
              " '__ne__',\n",
              " '__new__',\n",
              " '__reduce__',\n",
              " '__reduce_ex__',\n",
              " '__repr__',\n",
              " '__reversed__',\n",
              " '__rmul__',\n",
              " '__setattr__',\n",
              " '__setitem__',\n",
              " '__sizeof__',\n",
              " '__str__',\n",
              " '__subclasshook__',\n",
              " 'append',\n",
              " 'clear',\n",
              " 'copy',\n",
              " 'count',\n",
              " 'extend',\n",
              " 'index',\n",
              " 'insert',\n",
              " 'pop',\n",
              " 'remove',\n",
              " 'reverse',\n",
              " 'sort']"
            ]
          },
          "metadata": {},
          "execution_count": 11
        }
      ]
    },
    {
      "cell_type": "markdown",
      "source": [
        "###**append()**"
      ],
      "metadata": {
        "id": "KWRfr_u7CJiu"
      }
    },
    {
      "cell_type": "code",
      "source": [
        "A.append('Marvel') # to add an element at the end of the list\n",
        "A"
      ],
      "metadata": {
        "colab": {
          "base_uri": "https://localhost:8080/"
        },
        "id": "EwnuiGMpCYvo",
        "outputId": "2ca13132-78b0-435f-f6c4-15302810c4c7"
      },
      "execution_count": null,
      "outputs": [
        {
          "output_type": "execute_result",
          "data": {
            "text/plain": [
              "[11,\n",
              " 'Sharmita',\n",
              " 3.65,\n",
              " 'Apple',\n",
              " True,\n",
              " 'SpiderMan',\n",
              " 'Cherry',\n",
              " 'Banana',\n",
              " 'Marvel']"
            ]
          },
          "metadata": {},
          "execution_count": 12
        }
      ]
    },
    {
      "cell_type": "markdown",
      "source": [
        "###**copy()**"
      ],
      "metadata": {
        "id": "2W1EAhKJC3K7"
      }
    },
    {
      "cell_type": "code",
      "source": [
        "B = A.copy() # to make a copy of a list\n",
        "B"
      ],
      "metadata": {
        "colab": {
          "base_uri": "https://localhost:8080/"
        },
        "id": "FvhCAPWqCk0n",
        "outputId": "928af013-4df8-4dae-8c8e-450f83ef78d9"
      },
      "execution_count": null,
      "outputs": [
        {
          "output_type": "execute_result",
          "data": {
            "text/plain": [
              "[11,\n",
              " 'Sharmita',\n",
              " 3.65,\n",
              " 'Apple',\n",
              " True,\n",
              " 'SpiderMan',\n",
              " 'Cherry',\n",
              " 'Banana',\n",
              " 'Marvel']"
            ]
          },
          "metadata": {},
          "execution_count": 13
        }
      ]
    },
    {
      "cell_type": "markdown",
      "source": [
        "###**count()**"
      ],
      "metadata": {
        "id": "mrzNu5BSC1E8"
      }
    },
    {
      "cell_type": "code",
      "source": [
        "A.count('Sharmita') # to check how many times the specified element has appeared in that list"
      ],
      "metadata": {
        "colab": {
          "base_uri": "https://localhost:8080/"
        },
        "id": "KRCKdeXxDNal",
        "outputId": "464a4c20-b50d-4b8a-cec3-3081f5a27d0d"
      },
      "execution_count": null,
      "outputs": [
        {
          "output_type": "execute_result",
          "data": {
            "text/plain": [
              "1"
            ]
          },
          "metadata": {},
          "execution_count": 14
        }
      ]
    },
    {
      "cell_type": "markdown",
      "source": [
        "###**extend()**"
      ],
      "metadata": {
        "id": "8zswsUUODSIJ"
      }
    },
    {
      "cell_type": "code",
      "source": [
        "A.extend([4,5,6]) # to add the elements of a list (or any iterable), to the end of the current list\n",
        "A"
      ],
      "metadata": {
        "colab": {
          "base_uri": "https://localhost:8080/"
        },
        "id": "Nfht2sOCDifK",
        "outputId": "ee392691-120f-41ca-d2cd-b71091928af3"
      },
      "execution_count": null,
      "outputs": [
        {
          "output_type": "execute_result",
          "data": {
            "text/plain": [
              "[11,\n",
              " 'Sharmita',\n",
              " 3.65,\n",
              " 'Apple',\n",
              " True,\n",
              " 'SpiderMan',\n",
              " 'Cherry',\n",
              " 'Banana',\n",
              " 'Marvel',\n",
              " 4,\n",
              " 5,\n",
              " 6]"
            ]
          },
          "metadata": {},
          "execution_count": 15
        }
      ]
    },
    {
      "cell_type": "markdown",
      "source": [
        "####**insert()**"
      ],
      "metadata": {
        "id": "zqaN_SZNEEdW"
      }
    },
    {
      "cell_type": "code",
      "source": [
        "A.insert(5,'Apple') # to insert the element in the specified index position\n",
        "A"
      ],
      "metadata": {
        "colab": {
          "base_uri": "https://localhost:8080/"
        },
        "id": "iHPTLBiIERp3",
        "outputId": "8c4b957d-6eaa-407c-c5d5-b49703f5aedb"
      },
      "execution_count": null,
      "outputs": [
        {
          "output_type": "execute_result",
          "data": {
            "text/plain": [
              "[11,\n",
              " 'Sharmita',\n",
              " 3.65,\n",
              " 'Apple',\n",
              " True,\n",
              " 'Apple',\n",
              " 'SpiderMan',\n",
              " 'Cherry',\n",
              " 'Banana',\n",
              " 'Marvel',\n",
              " 4,\n",
              " 5,\n",
              " 6]"
            ]
          },
          "metadata": {},
          "execution_count": 17
        }
      ]
    },
    {
      "cell_type": "markdown",
      "source": [
        "####**index()**"
      ],
      "metadata": {
        "id": "R4tt2zI9Ep6t"
      }
    },
    {
      "cell_type": "code",
      "source": [
        "A.index('Apple') # to check the first index position of a specified value"
      ],
      "metadata": {
        "colab": {
          "base_uri": "https://localhost:8080/"
        },
        "id": "2Q3sI4zmEYz1",
        "outputId": "ac02d5f6-6949-422a-8d9c-ffdb8249eaf0"
      },
      "execution_count": null,
      "outputs": [
        {
          "output_type": "execute_result",
          "data": {
            "text/plain": [
              "3"
            ]
          },
          "metadata": {},
          "execution_count": 18
        }
      ]
    },
    {
      "cell_type": "markdown",
      "source": [
        "####**pop()**"
      ],
      "metadata": {
        "id": "G8UrY7GIE1T5"
      }
    },
    {
      "cell_type": "code",
      "source": [
        "A.pop(2) #to remove the element at the specified position"
      ],
      "metadata": {
        "colab": {
          "base_uri": "https://localhost:8080/"
        },
        "id": "3BvfHbHPEd_G",
        "outputId": "bab69f5c-4720-42b6-98ed-cac7d6151a69"
      },
      "execution_count": null,
      "outputs": [
        {
          "output_type": "execute_result",
          "data": {
            "text/plain": [
              "3.65"
            ]
          },
          "metadata": {},
          "execution_count": 19
        }
      ]
    },
    {
      "cell_type": "code",
      "source": [
        "A"
      ],
      "metadata": {
        "colab": {
          "base_uri": "https://localhost:8080/"
        },
        "id": "geIv4XIQEw4s",
        "outputId": "30ca58ec-7f02-4845-94fb-b8afe1af0511"
      },
      "execution_count": null,
      "outputs": [
        {
          "output_type": "execute_result",
          "data": {
            "text/plain": [
              "[11,\n",
              " 'Sharmita',\n",
              " 'Apple',\n",
              " True,\n",
              " 'Apple',\n",
              " 'SpiderMan',\n",
              " 'Cherry',\n",
              " 'Banana',\n",
              " 'Marvel',\n",
              " 4,\n",
              " 5,\n",
              " 6]"
            ]
          },
          "metadata": {},
          "execution_count": 20
        }
      ]
    },
    {
      "cell_type": "markdown",
      "source": [
        "####**remove()**"
      ],
      "metadata": {
        "id": "26Ff0PdZEzj_"
      }
    },
    {
      "cell_type": "code",
      "source": [
        "A.remove('Apple') # to remove the first occurance of the specified value"
      ],
      "metadata": {
        "id": "XQBvg-AcFCUD"
      },
      "execution_count": null,
      "outputs": []
    },
    {
      "cell_type": "code",
      "source": [
        "A"
      ],
      "metadata": {
        "colab": {
          "base_uri": "https://localhost:8080/"
        },
        "id": "CgTJjW1oFFP3",
        "outputId": "28fcce9e-094b-4b2c-e34d-36c42820744d"
      },
      "execution_count": null,
      "outputs": [
        {
          "output_type": "execute_result",
          "data": {
            "text/plain": [
              "[11,\n",
              " 'Sharmita',\n",
              " True,\n",
              " 'Apple',\n",
              " 'SpiderMan',\n",
              " 'Cherry',\n",
              " 'Banana',\n",
              " 'Marvel',\n",
              " 4,\n",
              " 5,\n",
              " 6]"
            ]
          },
          "metadata": {},
          "execution_count": 22
        }
      ]
    },
    {
      "cell_type": "markdown",
      "source": [
        "####**reverse()**"
      ],
      "metadata": {
        "id": "UQc1iTB6FPqz"
      }
    },
    {
      "cell_type": "code",
      "source": [
        "A.reverse() # to reverse the positions of the elements in the list"
      ],
      "metadata": {
        "id": "h63P0u9SFGOk"
      },
      "execution_count": null,
      "outputs": []
    },
    {
      "cell_type": "code",
      "source": [
        "A"
      ],
      "metadata": {
        "colab": {
          "base_uri": "https://localhost:8080/"
        },
        "id": "bAwYyVkEFTRF",
        "outputId": "3ee6cac9-9663-4a04-cdf1-93bf4352c18b"
      },
      "execution_count": null,
      "outputs": [
        {
          "output_type": "execute_result",
          "data": {
            "text/plain": [
              "[6,\n",
              " 5,\n",
              " 4,\n",
              " 'Marvel',\n",
              " 'Banana',\n",
              " 'Cherry',\n",
              " 'SpiderMan',\n",
              " 'Apple',\n",
              " True,\n",
              " 'Sharmita',\n",
              " 11]"
            ]
          },
          "metadata": {},
          "execution_count": 24
        }
      ]
    },
    {
      "cell_type": "markdown",
      "source": [
        "####**clear()**"
      ],
      "metadata": {
        "id": "C22g9GZNFUM8"
      }
    },
    {
      "cell_type": "code",
      "source": [
        "A.clear() #to clear all the elements from the list"
      ],
      "metadata": {
        "id": "IxuxxOQpFvTa"
      },
      "execution_count": null,
      "outputs": []
    },
    {
      "cell_type": "code",
      "source": [
        "A  #this becomes a null set"
      ],
      "metadata": {
        "colab": {
          "base_uri": "https://localhost:8080/"
        },
        "id": "hHQcYt_lGEZT",
        "outputId": "0ee97a90-44ac-4043-d5c3-ac05f63bd1cb"
      },
      "execution_count": null,
      "outputs": [
        {
          "output_type": "execute_result",
          "data": {
            "text/plain": [
              "[]"
            ]
          },
          "metadata": {},
          "execution_count": 35
        }
      ]
    },
    {
      "cell_type": "markdown",
      "source": [
        "####**sort()**"
      ],
      "metadata": {
        "id": "qbASbmzJGFYl"
      }
    },
    {
      "cell_type": "code",
      "source": [
        "C = [1,67,99.5]"
      ],
      "metadata": {
        "id": "ea9sDPZVGSl7"
      },
      "execution_count": null,
      "outputs": []
    },
    {
      "cell_type": "code",
      "source": [
        "C.sort() # to sort the elements in the list\n",
        "C"
      ],
      "metadata": {
        "colab": {
          "base_uri": "https://localhost:8080/"
        },
        "id": "gwttLKEhGV3-",
        "outputId": "92f0b256-7d5f-4381-cafd-93883613b9f4"
      },
      "execution_count": null,
      "outputs": [
        {
          "output_type": "execute_result",
          "data": {
            "text/plain": [
              "[1, 67, 99.5]"
            ]
          },
          "metadata": {},
          "execution_count": 34
        }
      ]
    },
    {
      "cell_type": "markdown",
      "source": [
        "##**2. Set**"
      ],
      "metadata": {
        "id": "zgfBSJ7hGc9Y"
      }
    },
    {
      "cell_type": "code",
      "source": [
        "set1 = {\"Sharmita\", \"Sidharth\", 99.984, \"Chris\", 78, \"Apple\", 95, \"Sun\", \"Moon\", 45, \"Apple\", \"Sharmita\", 78}\n",
        "set2 = {\"Sharmita\", 99.984, \"Chris\", \"Apple\", \"Sun\", 45}"
      ],
      "metadata": {
        "id": "qm9LsFbFHA--"
      },
      "execution_count": null,
      "outputs": []
    },
    {
      "cell_type": "code",
      "source": [
        "set1 "
      ],
      "metadata": {
        "colab": {
          "base_uri": "https://localhost:8080/"
        },
        "id": "M_ZgZrXtHgQB",
        "outputId": "e7b347b7-9e22-477b-dd07-0d1c80b1c101"
      },
      "execution_count": null,
      "outputs": [
        {
          "output_type": "execute_result",
          "data": {
            "text/plain": [
              "{45, 78, 95, 99.984, 'Apple', 'Chris', 'Moon', 'Sharmita', 'Sidharth', 'Sun'}"
            ]
          },
          "metadata": {},
          "execution_count": 41
        }
      ]
    },
    {
      "cell_type": "markdown",
      "source": [
        "the positions of the element has changed and the duplicate appearances of the elements has been deleted. It only gives UNIQUE ELEMENTS in the result. And SET is unordered. "
      ],
      "metadata": {
        "id": "M2Knw4AcIOH-"
      }
    },
    {
      "cell_type": "code",
      "source": [
        "dir(set1) #to check all the methoids available for set"
      ],
      "metadata": {
        "colab": {
          "base_uri": "https://localhost:8080/"
        },
        "id": "w9K1d6D3JTwb",
        "outputId": "f342fff3-8f87-4421-9706-e0f147adf067"
      },
      "execution_count": null,
      "outputs": [
        {
          "output_type": "execute_result",
          "data": {
            "text/plain": [
              "['__and__',\n",
              " '__class__',\n",
              " '__contains__',\n",
              " '__delattr__',\n",
              " '__dir__',\n",
              " '__doc__',\n",
              " '__eq__',\n",
              " '__format__',\n",
              " '__ge__',\n",
              " '__getattribute__',\n",
              " '__gt__',\n",
              " '__hash__',\n",
              " '__iand__',\n",
              " '__init__',\n",
              " '__init_subclass__',\n",
              " '__ior__',\n",
              " '__isub__',\n",
              " '__iter__',\n",
              " '__ixor__',\n",
              " '__le__',\n",
              " '__len__',\n",
              " '__lt__',\n",
              " '__ne__',\n",
              " '__new__',\n",
              " '__or__',\n",
              " '__rand__',\n",
              " '__reduce__',\n",
              " '__reduce_ex__',\n",
              " '__repr__',\n",
              " '__ror__',\n",
              " '__rsub__',\n",
              " '__rxor__',\n",
              " '__setattr__',\n",
              " '__sizeof__',\n",
              " '__str__',\n",
              " '__sub__',\n",
              " '__subclasshook__',\n",
              " '__xor__',\n",
              " 'add',\n",
              " 'clear',\n",
              " 'copy',\n",
              " 'difference',\n",
              " 'difference_update',\n",
              " 'discard',\n",
              " 'intersection',\n",
              " 'intersection_update',\n",
              " 'isdisjoint',\n",
              " 'issubset',\n",
              " 'issuperset',\n",
              " 'pop',\n",
              " 'remove',\n",
              " 'symmetric_difference',\n",
              " 'symmetric_difference_update',\n",
              " 'union',\n",
              " 'update']"
            ]
          },
          "metadata": {},
          "execution_count": 43
        }
      ]
    },
    {
      "cell_type": "markdown",
      "source": [
        "####**add()**"
      ],
      "metadata": {
        "id": "0E__SnFHdvLN"
      }
    },
    {
      "cell_type": "code",
      "source": [
        "set1.add(\"London\") # to add an element in the set\n",
        "set1"
      ],
      "metadata": {
        "colab": {
          "base_uri": "https://localhost:8080/"
        },
        "id": "_PeojhDBJoHT",
        "outputId": "7d6e52da-a032-4218-96d4-80008f2dc265"
      },
      "execution_count": null,
      "outputs": [
        {
          "output_type": "execute_result",
          "data": {
            "text/plain": [
              "{45,\n",
              " 78,\n",
              " 95,\n",
              " 99.984,\n",
              " 'Apple',\n",
              " 'Chris',\n",
              " 'London',\n",
              " 'Moon',\n",
              " 'Sharmita',\n",
              " 'Sidharth',\n",
              " 'Sun'}"
            ]
          },
          "metadata": {},
          "execution_count": 44
        }
      ]
    },
    {
      "cell_type": "markdown",
      "source": [
        "####**copy()**"
      ],
      "metadata": {
        "id": "wGnsNdVhd51t"
      }
    },
    {
      "cell_type": "code",
      "source": [
        "s1 = set1.copy() # to make a copy of the set\n",
        "s1"
      ],
      "metadata": {
        "colab": {
          "base_uri": "https://localhost:8080/"
        },
        "id": "l-nWdDliNqQF",
        "outputId": "82443111-dbad-46a6-b7fc-06ddbd791e64"
      },
      "execution_count": null,
      "outputs": [
        {
          "output_type": "execute_result",
          "data": {
            "text/plain": [
              "{45,\n",
              " 78,\n",
              " 95,\n",
              " 99.984,\n",
              " 'Apple',\n",
              " 'Chris',\n",
              " 'London',\n",
              " 'Moon',\n",
              " 'Sharmita',\n",
              " 'Sidharth',\n",
              " 'Sun'}"
            ]
          },
          "metadata": {},
          "execution_count": 45
        }
      ]
    },
    {
      "cell_type": "markdown",
      "source": [
        "####**difference()**"
      ],
      "metadata": {
        "id": "y8Xv9Wsxd9vM"
      }
    },
    {
      "cell_type": "code",
      "source": [
        "set1.difference(set2) # it gives the difference of the set with another specified set"
      ],
      "metadata": {
        "colab": {
          "base_uri": "https://localhost:8080/"
        },
        "id": "2oLsLCcqNv3F",
        "outputId": "b695bb32-8649-4f95-fcea-23c09b0105d4"
      },
      "execution_count": null,
      "outputs": [
        {
          "output_type": "execute_result",
          "data": {
            "text/plain": [
              "{78, 95, 'London', 'Moon', 'Sidharth'}"
            ]
          },
          "metadata": {},
          "execution_count": 46
        }
      ]
    },
    {
      "cell_type": "markdown",
      "source": [
        "####**difference_update()**"
      ],
      "metadata": {
        "id": "25hpA0LpeB9P"
      }
    },
    {
      "cell_type": "code",
      "source": [
        "set1.difference_update(set2) #to remove the items in the set that are also included in another specified set"
      ],
      "metadata": {
        "id": "3yOWBrDPN9QH"
      },
      "execution_count": null,
      "outputs": []
    },
    {
      "cell_type": "code",
      "source": [
        "set1"
      ],
      "metadata": {
        "colab": {
          "base_uri": "https://localhost:8080/"
        },
        "id": "bzZaYJ3pOT2w",
        "outputId": "ea8cdeec-2dfd-4952-e6ac-dc2f190512ef"
      },
      "execution_count": null,
      "outputs": [
        {
          "output_type": "execute_result",
          "data": {
            "text/plain": [
              "{78, 95, 'London', 'Moon', 'Sidharth'}"
            ]
          },
          "metadata": {},
          "execution_count": 49
        }
      ]
    },
    {
      "cell_type": "code",
      "source": [
        "set1 = {\"Sharmita\", \"Sidharth\", 99.984, \"Chris\", 78, \"Apple\", 95, \"Sun\", \"Moon\", 45, \"Apple\", \"Sharmita\", 78}\n",
        "set1"
      ],
      "metadata": {
        "colab": {
          "base_uri": "https://localhost:8080/"
        },
        "id": "Q8SqMGYoOXgx",
        "outputId": "d09b2e7f-31e1-4db8-8276-ad06a4d46674"
      },
      "execution_count": null,
      "outputs": [
        {
          "output_type": "execute_result",
          "data": {
            "text/plain": [
              "{45, 78, 95, 99.984, 'Apple', 'Chris', 'Moon', 'Sharmita', 'Sidharth', 'Sun'}"
            ]
          },
          "metadata": {},
          "execution_count": 50
        }
      ]
    },
    {
      "cell_type": "markdown",
      "source": [
        "####**discard()**"
      ],
      "metadata": {
        "id": "sF73xuyHeOHD"
      }
    },
    {
      "cell_type": "code",
      "source": [
        "set1.discard('Sharmita') # to remove the specified element from the set\n",
        "set1"
      ],
      "metadata": {
        "colab": {
          "base_uri": "https://localhost:8080/"
        },
        "id": "Bk3Nt530PZ1V",
        "outputId": "4e7a390c-55f3-49ac-c553-320edbc20e21"
      },
      "execution_count": null,
      "outputs": [
        {
          "output_type": "execute_result",
          "data": {
            "text/plain": [
              "{45, 78, 95, 99.984, 'Apple', 'Chris', 'Moon', 'Sidharth', 'Sun'}"
            ]
          },
          "metadata": {},
          "execution_count": 51
        }
      ]
    },
    {
      "cell_type": "markdown",
      "source": [
        "####**intersection()**"
      ],
      "metadata": {
        "id": "oXm9k6hteSWO"
      }
    },
    {
      "cell_type": "code",
      "source": [
        "set1.intersection(set2) # to check the intersection the set with another specified set"
      ],
      "metadata": {
        "colab": {
          "base_uri": "https://localhost:8080/"
        },
        "id": "yYLSXnfAPiWT",
        "outputId": "f5e0bcb9-57ff-466b-856a-bb5f3fbe728a"
      },
      "execution_count": null,
      "outputs": [
        {
          "output_type": "execute_result",
          "data": {
            "text/plain": [
              "{45, 99.984, 'Apple', 'Chris', 'Sun'}"
            ]
          },
          "metadata": {},
          "execution_count": 52
        }
      ]
    },
    {
      "cell_type": "markdown",
      "source": [
        "####**intersection_update()**"
      ],
      "metadata": {
        "id": "oGtQdX9KeVx-"
      }
    },
    {
      "cell_type": "code",
      "source": [
        "set1.intersection_update(set2) # to remove the elements in the set that are not present in the specified another set\n",
        "set1"
      ],
      "metadata": {
        "colab": {
          "base_uri": "https://localhost:8080/"
        },
        "id": "mYULsFLKPt9k",
        "outputId": "8ffe247b-7a82-4575-99f7-bcf6401a52c4"
      },
      "execution_count": null,
      "outputs": [
        {
          "output_type": "execute_result",
          "data": {
            "text/plain": [
              "{45, 99.984, 'Apple', 'Chris', 'Sun'}"
            ]
          },
          "metadata": {},
          "execution_count": 53
        }
      ]
    },
    {
      "cell_type": "code",
      "source": [
        "set1 = {\"Sharmita\", \"Sidharth\", 99.984, \"Chris\", 78, \"Apple\", 95, \"Sun\", \"Moon\", 45, \"Apple\", \"Sharmita\", 78}\n",
        "set1"
      ],
      "metadata": {
        "colab": {
          "base_uri": "https://localhost:8080/"
        },
        "id": "e0OJykgCP6IR",
        "outputId": "4658c469-ea0f-4d6c-d472-4211eeef4744"
      },
      "execution_count": null,
      "outputs": [
        {
          "output_type": "execute_result",
          "data": {
            "text/plain": [
              "{45, 78, 95, 99.984, 'Apple', 'Chris', 'Moon', 'Sharmita', 'Sidharth', 'Sun'}"
            ]
          },
          "metadata": {},
          "execution_count": 54
        }
      ]
    },
    {
      "cell_type": "markdown",
      "source": [
        "####**isdisjoint()**"
      ],
      "metadata": {
        "id": "h9z0Feupeatg"
      }
    },
    {
      "cell_type": "code",
      "source": [
        "set1.isdisjoint(set2) # to check whether the set is disjoint with specified anothert set or not"
      ],
      "metadata": {
        "colab": {
          "base_uri": "https://localhost:8080/"
        },
        "id": "JG6YHnzaQDk8",
        "outputId": "f985a1e2-b03e-4730-9b67-b41fff79a064"
      },
      "execution_count": null,
      "outputs": [
        {
          "output_type": "execute_result",
          "data": {
            "text/plain": [
              "False"
            ]
          },
          "metadata": {},
          "execution_count": 55
        }
      ]
    },
    {
      "cell_type": "markdown",
      "source": [
        "####**issubset()**"
      ],
      "metadata": {
        "id": "3ojdzWGLefC-"
      }
    },
    {
      "cell_type": "code",
      "source": [
        "set1.issubset(set2) #to check whether the specified another set contains all the elements of this set or not"
      ],
      "metadata": {
        "colab": {
          "base_uri": "https://localhost:8080/"
        },
        "id": "CCMrWjJIQMyB",
        "outputId": "f5f0bfc2-2b21-41c0-e19b-c7293384f218"
      },
      "execution_count": null,
      "outputs": [
        {
          "output_type": "execute_result",
          "data": {
            "text/plain": [
              "False"
            ]
          },
          "metadata": {},
          "execution_count": 56
        }
      ]
    },
    {
      "cell_type": "markdown",
      "source": [
        "####**issuperset()**"
      ],
      "metadata": {
        "id": "aWri84KFeiEQ"
      }
    },
    {
      "cell_type": "code",
      "source": [
        "set1.issuperset(set2) # to check whether this set contains the specified another set or not"
      ],
      "metadata": {
        "colab": {
          "base_uri": "https://localhost:8080/"
        },
        "id": "Fh79DE69QTAo",
        "outputId": "b5c40494-b3ae-441d-c06a-776de9186bc0"
      },
      "execution_count": null,
      "outputs": [
        {
          "output_type": "execute_result",
          "data": {
            "text/plain": [
              "True"
            ]
          },
          "metadata": {},
          "execution_count": 57
        }
      ]
    },
    {
      "cell_type": "markdown",
      "source": [
        "####**pop()**"
      ],
      "metadata": {
        "id": "QFFSic-velh2"
      }
    },
    {
      "cell_type": "code",
      "source": [
        "set1.pop() # it randomly deletes one element from the set"
      ],
      "metadata": {
        "colab": {
          "base_uri": "https://localhost:8080/",
          "height": 35
        },
        "id": "RDJFh6CGQt_e",
        "outputId": "2dca807e-3e4c-490a-cfaf-b2cd54adad6a"
      },
      "execution_count": null,
      "outputs": [
        {
          "output_type": "execute_result",
          "data": {
            "text/plain": [
              "'Sidharth'"
            ],
            "application/vnd.google.colaboratory.intrinsic+json": {
              "type": "string"
            }
          },
          "metadata": {},
          "execution_count": 58
        }
      ]
    },
    {
      "cell_type": "markdown",
      "source": [
        "####**remove()**"
      ],
      "metadata": {
        "id": "ps92TiZzeoen"
      }
    },
    {
      "cell_type": "code",
      "source": [
        "set1.remove(99.984) # to delete the specified element from the set\n",
        "set1"
      ],
      "metadata": {
        "colab": {
          "base_uri": "https://localhost:8080/"
        },
        "id": "qulWko2sQxWN",
        "outputId": "a2970c1d-8722-46a1-d839-1aeb612741fb"
      },
      "execution_count": null,
      "outputs": [
        {
          "output_type": "execute_result",
          "data": {
            "text/plain": [
              "{45, 78, 95, 'Apple', 'Chris', 'Moon', 'Sharmita', 'Sun'}"
            ]
          },
          "metadata": {},
          "execution_count": 59
        }
      ]
    },
    {
      "cell_type": "markdown",
      "source": [
        "####**symmetric_difference()**"
      ],
      "metadata": {
        "id": "prEHdh0WerSw"
      }
    },
    {
      "cell_type": "code",
      "source": [
        "set1.symmetric_difference(set2) # it returns the set with the symmetric differences of two sets"
      ],
      "metadata": {
        "colab": {
          "base_uri": "https://localhost:8080/"
        },
        "id": "Ol8c5yDqQ9xH",
        "outputId": "505b7b34-7e5b-4df1-c586-95ad87771591"
      },
      "execution_count": null,
      "outputs": [
        {
          "output_type": "execute_result",
          "data": {
            "text/plain": [
              "{78, 95, 99.984, 'Moon'}"
            ]
          },
          "metadata": {},
          "execution_count": 60
        }
      ]
    },
    {
      "cell_type": "markdown",
      "source": [
        "####**symmetric_difference_update()**"
      ],
      "metadata": {
        "id": "R81Qhcmzey6f"
      }
    },
    {
      "cell_type": "code",
      "source": [
        "set1.symmetric_difference_update(set2) #it updates the set with the symmetric differences of two sets\n",
        "set1"
      ],
      "metadata": {
        "colab": {
          "base_uri": "https://localhost:8080/"
        },
        "id": "dupTauLQRQ3N",
        "outputId": "e2a69ce1-3e15-4efc-a71a-eb11b6a6c908"
      },
      "execution_count": null,
      "outputs": [
        {
          "output_type": "execute_result",
          "data": {
            "text/plain": [
              "{78, 95, 99.984, 'Moon'}"
            ]
          },
          "metadata": {},
          "execution_count": 61
        }
      ]
    },
    {
      "cell_type": "code",
      "source": [
        "set1 = {\"Sharmita\", \"Sidharth\", 99.984, \"Chris\", 78, \"Apple\", 95, \"Sun\", \"Moon\", 45, \"Apple\", \"Sharmita\", 78}\n",
        "set1"
      ],
      "metadata": {
        "colab": {
          "base_uri": "https://localhost:8080/"
        },
        "id": "EfcwzPBsRgQ-",
        "outputId": "716e362d-eb31-45c9-e053-17b413a4aac5"
      },
      "execution_count": null,
      "outputs": [
        {
          "output_type": "execute_result",
          "data": {
            "text/plain": [
              "{45, 78, 95, 99.984, 'Apple', 'Chris', 'Moon', 'Sharmita', 'Sidharth', 'Sun'}"
            ]
          },
          "metadata": {},
          "execution_count": 62
        }
      ]
    },
    {
      "cell_type": "markdown",
      "source": [
        "####**union()**"
      ],
      "metadata": {
        "id": "7_QiLlase3wa"
      }
    },
    {
      "cell_type": "code",
      "source": [
        "set1.union(set2) # returns the set containing the union of the sets"
      ],
      "metadata": {
        "colab": {
          "base_uri": "https://localhost:8080/"
        },
        "id": "xfr6IxBURkzP",
        "outputId": "b54b1d66-0082-4ebe-a5a2-d6ee50668ce2"
      },
      "execution_count": null,
      "outputs": [
        {
          "output_type": "execute_result",
          "data": {
            "text/plain": [
              "{45, 78, 95, 99.984, 'Apple', 'Chris', 'Moon', 'Sharmita', 'Sidharth', 'Sun'}"
            ]
          },
          "metadata": {},
          "execution_count": 63
        }
      ]
    },
    {
      "cell_type": "markdown",
      "source": [
        "####**update()**"
      ],
      "metadata": {
        "id": "CbAu0bBKe6TA"
      }
    },
    {
      "cell_type": "code",
      "source": [
        "set1.update(set2) #it updates the set with union of this set and others\n",
        "set1"
      ],
      "metadata": {
        "colab": {
          "base_uri": "https://localhost:8080/"
        },
        "id": "-fAEHrX4Rt2F",
        "outputId": "d687e7da-4a6e-4480-8ce9-f1f0b9b67abb"
      },
      "execution_count": null,
      "outputs": [
        {
          "output_type": "execute_result",
          "data": {
            "text/plain": [
              "{45, 78, 95, 99.984, 'Apple', 'Chris', 'Moon', 'Sharmita', 'Sidharth', 'Sun'}"
            ]
          },
          "metadata": {},
          "execution_count": 64
        }
      ]
    },
    {
      "cell_type": "markdown",
      "source": [
        "####**clear()**"
      ],
      "metadata": {
        "id": "XPfcgmJme-BO"
      }
    },
    {
      "cell_type": "code",
      "source": [
        "set1.clear() # to clear all the elements of the set\n",
        "set1"
      ],
      "metadata": {
        "colab": {
          "base_uri": "https://localhost:8080/"
        },
        "id": "172DeRTWR4-I",
        "outputId": "c012c867-6c94-4865-eafd-6cbd04417e88"
      },
      "execution_count": null,
      "outputs": [
        {
          "output_type": "execute_result",
          "data": {
            "text/plain": [
              "set()"
            ]
          },
          "metadata": {},
          "execution_count": 65
        }
      ]
    },
    {
      "cell_type": "markdown",
      "source": [
        "##**3. Tuple**"
      ],
      "metadata": {
        "id": "6HtQpElBSOE1"
      }
    },
    {
      "cell_type": "code",
      "source": [
        "t = (1, 'Sharmi', 'SRK', 4.44, 'h', 'Sharmi')\n",
        "t"
      ],
      "metadata": {
        "colab": {
          "base_uri": "https://localhost:8080/"
        },
        "id": "Vcj25bYlSSYC",
        "outputId": "fb0e5096-c4fc-4b82-efac-86ca75138e4b"
      },
      "execution_count": null,
      "outputs": [
        {
          "output_type": "execute_result",
          "data": {
            "text/plain": [
              "(1, 'Sharmi', 'SRK', 4.44, 'h', 'Sharmi')"
            ]
          },
          "metadata": {},
          "execution_count": 72
        }
      ]
    },
    {
      "cell_type": "markdown",
      "source": [
        "###**Indexing**"
      ],
      "metadata": {
        "id": "jBY-l7dST_sn"
      }
    },
    {
      "cell_type": "code",
      "source": [
        "t[0] # indexing left to right"
      ],
      "metadata": {
        "colab": {
          "base_uri": "https://localhost:8080/"
        },
        "id": "RgkAPwf-TKBd",
        "outputId": "f84e88c5-2cb1-4ccf-c42d-e0b0e374ee93"
      },
      "execution_count": null,
      "outputs": [
        {
          "output_type": "execute_result",
          "data": {
            "text/plain": [
              "1"
            ]
          },
          "metadata": {},
          "execution_count": 73
        }
      ]
    },
    {
      "cell_type": "code",
      "source": [
        "t[-2] # indexing right to left"
      ],
      "metadata": {
        "colab": {
          "base_uri": "https://localhost:8080/",
          "height": 35
        },
        "id": "fno1CHBSTTFR",
        "outputId": "d6b0b103-5f79-450a-94ed-7d38b69898fe"
      },
      "execution_count": null,
      "outputs": [
        {
          "output_type": "execute_result",
          "data": {
            "text/plain": [
              "'h'"
            ],
            "application/vnd.google.colaboratory.intrinsic+json": {
              "type": "string"
            }
          },
          "metadata": {},
          "execution_count": 74
        }
      ]
    },
    {
      "cell_type": "markdown",
      "source": [
        "So, Tuple is ordered and so, indexed as well "
      ],
      "metadata": {
        "id": "3V9zatKgTrxB"
      }
    },
    {
      "cell_type": "code",
      "source": [
        "t[3]= 'Tiger'"
      ],
      "metadata": {
        "colab": {
          "base_uri": "https://localhost:8080/",
          "height": 183
        },
        "id": "MUhfd8UvTZ7z",
        "outputId": "fe2e319b-2cd4-4b2c-dd13-2f00c0ced4de"
      },
      "execution_count": null,
      "outputs": [
        {
          "output_type": "error",
          "ename": "TypeError",
          "evalue": "ignored",
          "traceback": [
            "\u001b[0;31m---------------------------------------------------------------------------\u001b[0m",
            "\u001b[0;31mTypeError\u001b[0m                                 Traceback (most recent call last)",
            "\u001b[0;32m<ipython-input-70-a552c8c9e614>\u001b[0m in \u001b[0;36m<module>\u001b[0;34m\u001b[0m\n\u001b[0;32m----> 1\u001b[0;31m \u001b[0mt\u001b[0m\u001b[0;34m[\u001b[0m\u001b[0;36m3\u001b[0m\u001b[0;34m]\u001b[0m\u001b[0;34m=\u001b[0m \u001b[0;34m'Tiger'\u001b[0m\u001b[0;34m\u001b[0m\u001b[0;34m\u001b[0m\u001b[0m\n\u001b[0m\u001b[1;32m      2\u001b[0m \u001b[0mt\u001b[0m\u001b[0;34m\u001b[0m\u001b[0;34m\u001b[0m\u001b[0m\n",
            "\u001b[0;31mTypeError\u001b[0m: 'tuple' object does not support item assignment"
          ]
        }
      ]
    },
    {
      "cell_type": "markdown",
      "source": [
        "So, tuple once created, it is non editable"
      ],
      "metadata": {
        "id": "aCoMfeLeT5QM"
      }
    },
    {
      "cell_type": "code",
      "source": [
        "dir(t) # to check all the available method for tuple"
      ],
      "metadata": {
        "colab": {
          "base_uri": "https://localhost:8080/"
        },
        "id": "8kigqpgyTemH",
        "outputId": "9ab07100-6e2d-452b-c710-90de69fd9279"
      },
      "execution_count": null,
      "outputs": [
        {
          "output_type": "execute_result",
          "data": {
            "text/plain": [
              "['__add__',\n",
              " '__class__',\n",
              " '__contains__',\n",
              " '__delattr__',\n",
              " '__dir__',\n",
              " '__doc__',\n",
              " '__eq__',\n",
              " '__format__',\n",
              " '__ge__',\n",
              " '__getattribute__',\n",
              " '__getitem__',\n",
              " '__getnewargs__',\n",
              " '__gt__',\n",
              " '__hash__',\n",
              " '__init__',\n",
              " '__init_subclass__',\n",
              " '__iter__',\n",
              " '__le__',\n",
              " '__len__',\n",
              " '__lt__',\n",
              " '__mul__',\n",
              " '__ne__',\n",
              " '__new__',\n",
              " '__reduce__',\n",
              " '__reduce_ex__',\n",
              " '__repr__',\n",
              " '__rmul__',\n",
              " '__setattr__',\n",
              " '__sizeof__',\n",
              " '__str__',\n",
              " '__subclasshook__',\n",
              " 'count',\n",
              " 'index']"
            ]
          },
          "metadata": {},
          "execution_count": 71
        }
      ]
    },
    {
      "cell_type": "markdown",
      "source": [
        "####**count()**"
      ],
      "metadata": {
        "id": "b8IONJNafNLt"
      }
    },
    {
      "cell_type": "code",
      "source": [
        "t.count('Sharmi') # to check the number of times the specified element has appeared in the tuple"
      ],
      "metadata": {
        "colab": {
          "base_uri": "https://localhost:8080/"
        },
        "id": "v4UgCEDrUFfA",
        "outputId": "c256ad73-3c72-4216-af31-2fa8ce1e7ca7"
      },
      "execution_count": null,
      "outputs": [
        {
          "output_type": "execute_result",
          "data": {
            "text/plain": [
              "2"
            ]
          },
          "metadata": {},
          "execution_count": 75
        }
      ]
    },
    {
      "cell_type": "markdown",
      "source": [
        "####**index()**"
      ],
      "metadata": {
        "id": "_qdpmMeEfPsY"
      }
    },
    {
      "cell_type": "code",
      "source": [
        "t.index(4.44) # to check the positive index position for the specified element in the tuple"
      ],
      "metadata": {
        "colab": {
          "base_uri": "https://localhost:8080/"
        },
        "id": "2VB6YLbnURFY",
        "outputId": "784e7dad-b198-4eb2-a170-03fcf5b05e0b"
      },
      "execution_count": null,
      "outputs": [
        {
          "output_type": "execute_result",
          "data": {
            "text/plain": [
              "3"
            ]
          },
          "metadata": {},
          "execution_count": 76
        }
      ]
    },
    {
      "cell_type": "code",
      "source": [
        "t.index('Sharmi') # so it gives the first positive index position for any element that has appeared more than once"
      ],
      "metadata": {
        "colab": {
          "base_uri": "https://localhost:8080/"
        },
        "id": "_PeDYsHGUsBU",
        "outputId": "6758a748-e28f-4d51-9cf5-61de8fd730e4"
      },
      "execution_count": null,
      "outputs": [
        {
          "output_type": "execute_result",
          "data": {
            "text/plain": [
              "1"
            ]
          },
          "metadata": {},
          "execution_count": 77
        }
      ]
    },
    {
      "cell_type": "markdown",
      "source": [
        "##**4. Dictionary**"
      ],
      "metadata": {
        "id": "GfOzKHjtU2rB"
      }
    },
    {
      "cell_type": "code",
      "source": [
        "D = { \"brand\": \"H&M\", \"Comic\" : \"Marvel\", \"year\": 2022}\n",
        "D"
      ],
      "metadata": {
        "colab": {
          "base_uri": "https://localhost:8080/"
        },
        "id": "LfjjGzbiVpxe",
        "outputId": "0ed77d11-616d-4066-a3b3-19f00a1aca26"
      },
      "execution_count": null,
      "outputs": [
        {
          "output_type": "execute_result",
          "data": {
            "text/plain": [
              "{'brand': 'H&M', 'Comic': 'Marvel', 'year': 2022}"
            ]
          },
          "metadata": {},
          "execution_count": 78
        }
      ]
    },
    {
      "cell_type": "code",
      "source": [
        "D[\"Comic\"]"
      ],
      "metadata": {
        "colab": {
          "base_uri": "https://localhost:8080/",
          "height": 35
        },
        "id": "JOiz8ZprV-yg",
        "outputId": "c6f55d63-fb81-4e85-dfab-a435ab3ffceb"
      },
      "execution_count": null,
      "outputs": [
        {
          "output_type": "execute_result",
          "data": {
            "text/plain": [
              "'Marvel'"
            ],
            "application/vnd.google.colaboratory.intrinsic+json": {
              "type": "string"
            }
          },
          "metadata": {},
          "execution_count": 79
        }
      ]
    },
    {
      "cell_type": "markdown",
      "source": [
        "In Dictionary the values are indexed by a particular key."
      ],
      "metadata": {
        "id": "hng9Vka1WLhN"
      }
    },
    {
      "cell_type": "code",
      "source": [
        "D[45] = 90 # added the value 90 for the key 45\n",
        "D"
      ],
      "metadata": {
        "colab": {
          "base_uri": "https://localhost:8080/"
        },
        "id": "WpEegdvHWfwD",
        "outputId": "8013fb60-56e7-4703-ce00-ec1907e6a271"
      },
      "execution_count": null,
      "outputs": [
        {
          "output_type": "execute_result",
          "data": {
            "text/plain": [
              "{'brand': 'H&M', 'Comic': 'Marvel', 'year': 2022, 45: 90}"
            ]
          },
          "metadata": {},
          "execution_count": 81
        }
      ]
    },
    {
      "cell_type": "markdown",
      "source": [
        "Dictionary is editable"
      ],
      "metadata": {
        "id": "A9ceOKQWWnkg"
      }
    },
    {
      "cell_type": "code",
      "source": [
        "dir(D) # to check all the available methods for dictionary"
      ],
      "metadata": {
        "colab": {
          "base_uri": "https://localhost:8080/"
        },
        "id": "XTUDBmK5WxyJ",
        "outputId": "9c3c2cae-c2d1-4d9b-be05-1714db74c1ec"
      },
      "execution_count": null,
      "outputs": [
        {
          "output_type": "execute_result",
          "data": {
            "text/plain": [
              "['__class__',\n",
              " '__contains__',\n",
              " '__delattr__',\n",
              " '__delitem__',\n",
              " '__dir__',\n",
              " '__doc__',\n",
              " '__eq__',\n",
              " '__format__',\n",
              " '__ge__',\n",
              " '__getattribute__',\n",
              " '__getitem__',\n",
              " '__gt__',\n",
              " '__hash__',\n",
              " '__init__',\n",
              " '__init_subclass__',\n",
              " '__iter__',\n",
              " '__le__',\n",
              " '__len__',\n",
              " '__lt__',\n",
              " '__ne__',\n",
              " '__new__',\n",
              " '__reduce__',\n",
              " '__reduce_ex__',\n",
              " '__repr__',\n",
              " '__setattr__',\n",
              " '__setitem__',\n",
              " '__sizeof__',\n",
              " '__str__',\n",
              " '__subclasshook__',\n",
              " 'clear',\n",
              " 'copy',\n",
              " 'fromkeys',\n",
              " 'get',\n",
              " 'items',\n",
              " 'keys',\n",
              " 'pop',\n",
              " 'popitem',\n",
              " 'setdefault',\n",
              " 'update',\n",
              " 'values']"
            ]
          },
          "metadata": {},
          "execution_count": 82
        }
      ]
    },
    {
      "cell_type": "markdown",
      "source": [
        "####**clear()**"
      ],
      "metadata": {
        "id": "wQwacKjDfcUN"
      }
    },
    {
      "cell_type": "code",
      "source": [
        "D.clear() # to clear all the elements from the dictionary"
      ],
      "metadata": {
        "id": "xmjlH1wXWz_W"
      },
      "execution_count": null,
      "outputs": []
    },
    {
      "cell_type": "code",
      "source": [
        "D"
      ],
      "metadata": {
        "colab": {
          "base_uri": "https://localhost:8080/"
        },
        "id": "XC5GPC_ZXt8W",
        "outputId": "43cfae5b-0b79-4e02-f74e-b46d08d4b66f"
      },
      "execution_count": null,
      "outputs": [
        {
          "output_type": "execute_result",
          "data": {
            "text/plain": [
              "{}"
            ]
          },
          "metadata": {},
          "execution_count": 84
        }
      ]
    },
    {
      "cell_type": "code",
      "source": [
        "D = {'brand': 'H&M', 'Comic': 'Marvel', 'year': 2022, 45: 90}\n",
        "D"
      ],
      "metadata": {
        "colab": {
          "base_uri": "https://localhost:8080/"
        },
        "id": "weU7HPAiXvPg",
        "outputId": "8e224e3d-2671-44b8-e97c-39014cd9f0c6"
      },
      "execution_count": null,
      "outputs": [
        {
          "output_type": "execute_result",
          "data": {
            "text/plain": [
              "{'brand': 'H&M', 'Comic': 'Marvel', 'year': 2022, 45: 90}"
            ]
          },
          "metadata": {},
          "execution_count": 85
        }
      ]
    },
    {
      "cell_type": "markdown",
      "source": [
        "####**copy()**"
      ],
      "metadata": {
        "id": "6HLtIYMfff1n"
      }
    },
    {
      "cell_type": "code",
      "source": [
        "E= D.copy() # to copy the dictionary\n",
        "E"
      ],
      "metadata": {
        "colab": {
          "base_uri": "https://localhost:8080/"
        },
        "id": "VedhcopAXxot",
        "outputId": "ff46d819-116c-430b-dba6-890b70984ffe"
      },
      "execution_count": null,
      "outputs": [
        {
          "output_type": "execute_result",
          "data": {
            "text/plain": [
              "{'brand': 'H&M', 'Comic': 'Marvel', 'year': 2022, 45: 90}"
            ]
          },
          "metadata": {},
          "execution_count": 86
        }
      ]
    },
    {
      "cell_type": "markdown",
      "source": [
        "####**fromkeys()**"
      ],
      "metadata": {
        "id": "h6RqATFgfisV"
      }
    },
    {
      "cell_type": "code",
      "source": [
        "D.fromkeys('brand',1) #gives a dictionary with the specified keys and value"
      ],
      "metadata": {
        "colab": {
          "base_uri": "https://localhost:8080/"
        },
        "id": "EBeQEs-_X5pM",
        "outputId": "6d63e901-645b-444b-93b1-23cc86488757"
      },
      "execution_count": null,
      "outputs": [
        {
          "output_type": "execute_result",
          "data": {
            "text/plain": [
              "{'b': 1, 'r': 1, 'a': 1, 'n': 1, 'd': 1}"
            ]
          },
          "metadata": {},
          "execution_count": 91
        }
      ]
    },
    {
      "cell_type": "code",
      "source": [
        "brand_key = {'b', 'r', 'a', 'n', 'd'} # another way\n",
        "num=1\n",
        "D.fromkeys(brand_key, num)"
      ],
      "metadata": {
        "colab": {
          "base_uri": "https://localhost:8080/"
        },
        "id": "nmZKmTIqYBiV",
        "outputId": "b1e12d35-4cad-4be9-d361-bf91e4210f09"
      },
      "execution_count": null,
      "outputs": [
        {
          "output_type": "execute_result",
          "data": {
            "text/plain": [
              "{'b': 1, 'r': 1, 'n': 1, 'd': 1, 'a': 1}"
            ]
          },
          "metadata": {},
          "execution_count": 92
        }
      ]
    },
    {
      "cell_type": "markdown",
      "source": [
        "####**get()**"
      ],
      "metadata": {
        "id": "hNNP83N2fobQ"
      }
    },
    {
      "cell_type": "code",
      "source": [
        "D.get('Comic') # it gives the value of the specified key"
      ],
      "metadata": {
        "colab": {
          "base_uri": "https://localhost:8080/",
          "height": 35
        },
        "id": "bxu7vtMaZGPB",
        "outputId": "105cbe8f-195d-48cc-bd57-6e359a4b6f65"
      },
      "execution_count": null,
      "outputs": [
        {
          "output_type": "execute_result",
          "data": {
            "text/plain": [
              "'Marvel'"
            ],
            "application/vnd.google.colaboratory.intrinsic+json": {
              "type": "string"
            }
          },
          "metadata": {},
          "execution_count": 97
        }
      ]
    },
    {
      "cell_type": "markdown",
      "source": [
        "####**items()**"
      ],
      "metadata": {
        "id": "kwBuuvU5fqg_"
      }
    },
    {
      "cell_type": "code",
      "source": [
        "D.items() # to get a list containing tuple for each key and value pair"
      ],
      "metadata": {
        "colab": {
          "base_uri": "https://localhost:8080/"
        },
        "id": "ba1aPyZqZONM",
        "outputId": "c5205e68-7553-4eb3-9cc2-0dbfa455e012"
      },
      "execution_count": null,
      "outputs": [
        {
          "output_type": "execute_result",
          "data": {
            "text/plain": [
              "dict_items([('brand', 'H&M'), ('Comic', 'Marvel'), ('year', 2022), (45, 90)])"
            ]
          },
          "metadata": {},
          "execution_count": 98
        }
      ]
    },
    {
      "cell_type": "markdown",
      "source": [
        "####**keys()**"
      ],
      "metadata": {
        "id": "rL34pq_Vfsu2"
      }
    },
    {
      "cell_type": "code",
      "source": [
        "D.keys() # to get the list containing the keys of the dictionary"
      ],
      "metadata": {
        "colab": {
          "base_uri": "https://localhost:8080/"
        },
        "id": "j4iGKFGFZyLi",
        "outputId": "e07cfcb6-28f0-49bb-cc25-aff551ef8d57"
      },
      "execution_count": null,
      "outputs": [
        {
          "output_type": "execute_result",
          "data": {
            "text/plain": [
              "dict_keys(['brand', 'Comic', 'year', 45])"
            ]
          },
          "metadata": {},
          "execution_count": 99
        }
      ]
    },
    {
      "cell_type": "markdown",
      "source": [
        "####**pop()**"
      ],
      "metadata": {
        "id": "eo_JDG9lfvLG"
      }
    },
    {
      "cell_type": "code",
      "source": [
        "D.pop(45) # it removes the element of which the key is specified\n",
        "D"
      ],
      "metadata": {
        "colab": {
          "base_uri": "https://localhost:8080/"
        },
        "id": "SNtn0_-eaDrX",
        "outputId": "a2841feb-8ddb-4da7-b328-413a61e1ce59"
      },
      "execution_count": null,
      "outputs": [
        {
          "output_type": "execute_result",
          "data": {
            "text/plain": [
              "{'brand': 'H&M', 'Comic': 'Marvel', 'year': 2022}"
            ]
          },
          "metadata": {},
          "execution_count": 100
        }
      ]
    },
    {
      "cell_type": "markdown",
      "source": [
        "####**popitem()**"
      ],
      "metadata": {
        "id": "w4Vc6ez8fw14"
      }
    },
    {
      "cell_type": "code",
      "source": [
        "D.popitem() # it removes the last inserted key-value pair"
      ],
      "metadata": {
        "colab": {
          "base_uri": "https://localhost:8080/"
        },
        "id": "qMrYLZgraIf-",
        "outputId": "080a27d3-170b-420b-bf81-e3ba11cfbe9d"
      },
      "execution_count": null,
      "outputs": [
        {
          "output_type": "execute_result",
          "data": {
            "text/plain": [
              "('year', 2022)"
            ]
          },
          "metadata": {},
          "execution_count": 101
        }
      ]
    },
    {
      "cell_type": "code",
      "source": [
        "D"
      ],
      "metadata": {
        "colab": {
          "base_uri": "https://localhost:8080/"
        },
        "id": "ySepKzX8aWC-",
        "outputId": "edde99c2-d48f-4913-ec72-6e2d3818569f"
      },
      "execution_count": null,
      "outputs": [
        {
          "output_type": "execute_result",
          "data": {
            "text/plain": [
              "{'brand': 'H&M', 'Comic': 'Marvel'}"
            ]
          },
          "metadata": {},
          "execution_count": 102
        }
      ]
    },
    {
      "cell_type": "markdown",
      "source": [
        "####**setdefault()**"
      ],
      "metadata": {
        "id": "COt8XBKyfzbA"
      }
    },
    {
      "cell_type": "code",
      "source": [
        "D.setdefault(' ', 50) #it gives the value of the specified key and it key doesn't exist, it inserts the key with the specified value"
      ],
      "metadata": {
        "colab": {
          "base_uri": "https://localhost:8080/"
        },
        "id": "3v71mrlGcB3d",
        "outputId": "ffaef7d7-5214-4c6d-8fb5-239cf2440565"
      },
      "execution_count": null,
      "outputs": [
        {
          "output_type": "execute_result",
          "data": {
            "text/plain": [
              "50"
            ]
          },
          "metadata": {},
          "execution_count": 109
        }
      ]
    },
    {
      "cell_type": "code",
      "source": [
        "D"
      ],
      "metadata": {
        "colab": {
          "base_uri": "https://localhost:8080/"
        },
        "id": "FboWUDLscSRZ",
        "outputId": "59e7c0a5-46f9-402b-b765-a47bc59c03da"
      },
      "execution_count": null,
      "outputs": [
        {
          "output_type": "execute_result",
          "data": {
            "text/plain": [
              "{'brand': 'H&M', 'Comic': 'Marvel', ' ': 50}"
            ]
          },
          "metadata": {},
          "execution_count": 110
        }
      ]
    },
    {
      "cell_type": "markdown",
      "source": [
        "####**update()**"
      ],
      "metadata": {
        "id": "ryI6UFlkf7Kp"
      }
    },
    {
      "cell_type": "code",
      "source": [
        "F = {\"Place\":\"Paris\"}\n",
        "D.update(F) # to update with the soecified keys and values\n",
        "D"
      ],
      "metadata": {
        "colab": {
          "base_uri": "https://localhost:8080/"
        },
        "id": "zYjsvUkvcTxa",
        "outputId": "5bfb8081-4f28-4e16-f071-93cbe2103702"
      },
      "execution_count": null,
      "outputs": [
        {
          "output_type": "execute_result",
          "data": {
            "text/plain": [
              "{'brand': 'H&M', 'Comic': 'Marvel', ' ': 50, 'Place': 'Paris'}"
            ]
          },
          "metadata": {},
          "execution_count": 112
        }
      ]
    },
    {
      "cell_type": "markdown",
      "source": [
        "####**values()**"
      ],
      "metadata": {
        "id": "OsgPzrxQf-WL"
      }
    },
    {
      "cell_type": "code",
      "source": [
        "D.values() # it gives the list of all the values in the dictionary"
      ],
      "metadata": {
        "colab": {
          "base_uri": "https://localhost:8080/"
        },
        "id": "es4OLUEqcwmD",
        "outputId": "544a70e3-c219-4671-c45b-faff92eb01d4"
      },
      "execution_count": null,
      "outputs": [
        {
          "output_type": "execute_result",
          "data": {
            "text/plain": [
              "dict_values(['H&M', 'Marvel', 50, 'Paris'])"
            ]
          },
          "metadata": {},
          "execution_count": 113
        }
      ]
    },
    {
      "cell_type": "markdown",
      "source": [
        "###**To get the separate list of keys and values by one command**"
      ],
      "metadata": {
        "id": "P_8YXqD8gtUP"
      }
    },
    {
      "cell_type": "code",
      "source": [
        "for k,v in D.items():\n",
        "  print(\"Key = \", k)\n",
        "  print(\" Value = \", v)"
      ],
      "metadata": {
        "colab": {
          "base_uri": "https://localhost:8080/"
        },
        "id": "UseupmqsgXYo",
        "outputId": "88550192-77c9-4490-f7b6-255f41a52aa1"
      },
      "execution_count": null,
      "outputs": [
        {
          "output_type": "stream",
          "name": "stdout",
          "text": [
            "Key =  brand\n",
            " Value =  H&M\n",
            "Key =  Comic\n",
            " Value =  Marvel\n",
            "Key =   \n",
            " Value =  50\n",
            "Key =  Place\n",
            " Value =  Paris\n"
          ]
        }
      ]
    },
    {
      "cell_type": "code",
      "source": [
        "for k,v in D.items():\n",
        "  print(\"Key = \", k, end=\",\")\n",
        "  print(\" Value = \", v)\n",
        "  # print-> by default changes the line!"
      ],
      "metadata": {
        "id": "VqHtEHwKgKy8",
        "colab": {
          "base_uri": "https://localhost:8080/"
        },
        "outputId": "893eaa08-8c7a-4298-92a3-55906e10fd2b"
      },
      "execution_count": null,
      "outputs": [
        {
          "output_type": "stream",
          "name": "stdout",
          "text": [
            "Key =  brand, Value =  H&M\n",
            "Key =  Comic, Value =  Marvel\n",
            "Key =   , Value =  50\n",
            "Key =  Place, Value =  Paris\n"
          ]
        }
      ]
    },
    {
      "cell_type": "code",
      "source": [
        ""
      ],
      "metadata": {
        "id": "oxwOVTDrgkWR"
      },
      "execution_count": null,
      "outputs": []
    }
  ]
}
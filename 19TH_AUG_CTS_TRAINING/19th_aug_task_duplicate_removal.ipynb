{
  "nbformat": 4,
  "nbformat_minor": 0,
  "metadata": {
    "colab": {
      "name": "19th aug task.ipynb",
      "provenance": [],
      "collapsed_sections": []
    },
    "kernelspec": {
      "name": "python3",
      "display_name": "Python 3"
    },
    "language_info": {
      "name": "python"
    }
  },
  "cells": [
    {
      "cell_type": "code",
      "source": [
        "def final_list(n):\n",
        "# n is total no. of elements that we are taking from the user\n",
        "  list1 = []\n",
        "  for x in range(n):\n",
        "    num = input('Enter a number: ')\n",
        "    list1.append(num)\n",
        "  list1 = set(list1)\n",
        "  print(list1)"
      ],
      "metadata": {
        "id": "0OLR3VBwuIZW"
      },
      "execution_count": 10,
      "outputs": []
    },
    {
      "cell_type": "code",
      "source": [
        "final_list(5)"
      ],
      "metadata": {
        "colab": {
          "base_uri": "https://localhost:8080/"
        },
        "id": "ulaTCMxeuc7w",
        "outputId": "6e8d4e69-6e51-46ec-ff6e-059d55fa1b5b"
      },
      "execution_count": 11,
      "outputs": [
        {
          "output_type": "stream",
          "name": "stdout",
          "text": [
            "Enter a number: 2\n",
            "Enter a number: 3\n",
            "Enter a number: 5\n",
            "Enter a number: 3\n",
            "Enter a number: 5\n",
            "{'3', '5', '2'}\n"
          ]
        }
      ]
    },
    {
      "cell_type": "code",
      "source": [
        ""
      ],
      "metadata": {
        "id": "k86rp5O1uh-p"
      },
      "execution_count": 11,
      "outputs": []
    }
  ]
}

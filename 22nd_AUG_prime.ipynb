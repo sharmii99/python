{
  "nbformat": 4,
  "nbformat_minor": 0,
  "metadata": {
    "colab": {
      "name": "22nd AUG prime.ipynb",
      "provenance": [],
      "collapsed_sections": []
    },
    "kernelspec": {
      "name": "python3",
      "display_name": "Python 3"
    },
    "language_info": {
      "name": "python"
    }
  },
  "cells": [
    {
      "cell_type": "code",
      "execution_count": 24,
      "metadata": {
        "colab": {
          "base_uri": "https://localhost:8080/"
        },
        "id": "cQb323HqEWV2",
        "outputId": "69a07590-1d99-43cb-def4-2ce85216c65c"
      },
      "outputs": [
        {
          "output_type": "stream",
          "name": "stdout",
          "text": [
            "Writing uptoprime.py\n"
          ]
        }
      ],
      "source": [
        "%%writefile uptoprime.py\n",
        "# Python3 program to display Prime numbers till N\n",
        "\n",
        "#function to check if a given number is prime\n",
        "def isPrime(n):\n",
        "#since 0 and 1 is not prime return false.\n",
        " if(n==1 or n==0):\n",
        "\t return False\n",
        "#Run a loop from 2 to n-1\n",
        " for i in range(2,n):\n",
        "\t#if the number is divisible by i, then n is not a prime number.\n",
        "\t if(n%i==0):\n",
        "\t  return False\n",
        "\n",
        "#otherwise, n is prime number.\n",
        " return True\n",
        "\n",
        "N = 10;\n",
        "#check for every number from 1 to N\n",
        "for i in range(1,N+1):\n",
        "#check if current number is prime\n",
        " if(isPrime(i)):\n",
        "\t  print(i,end=\" \")"
      ]
    },
    {
      "cell_type": "code",
      "source": [
        "%%writefile betweentwonumber.py\n",
        "def isPrime(n):\n",
        "  if(n==1 or n==0):\n",
        "    return False\n",
        "  for i in range(2,n):\n",
        "    if(n%i==0):\n",
        "      return False\n",
        "  return True\n",
        "n=int(input(\"enter lower range=\"))\n",
        "N=int(input(\"enter the upper range =\"))\n",
        "for i in range(n,N+1):\n",
        "  if(isPrime(i)):\n",
        "    print(i,end=\" \")"
      ],
      "metadata": {
        "colab": {
          "base_uri": "https://localhost:8080/"
        },
        "id": "BfBRdiqsE9Tt",
        "outputId": "19ec792b-ab7c-4601-9eb8-e23e5cf3d391"
      },
      "execution_count": 25,
      "outputs": [
        {
          "output_type": "stream",
          "name": "stdout",
          "text": [
            "Writing betweentwonumber.py\n"
          ]
        }
      ]
    }
  ]
}
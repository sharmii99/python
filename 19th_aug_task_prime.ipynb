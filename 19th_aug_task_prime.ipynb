{
  "nbformat": 4,
  "nbformat_minor": 0,
  "metadata": {
    "colab": {
      "name": "19th aug task prime.ipynb",
      "provenance": [],
      "collapsed_sections": []
    },
    "kernelspec": {
      "name": "python3",
      "display_name": "Python 3"
    },
    "language_info": {
      "name": "python"
    }
  },
  "cells": [
    {
      "cell_type": "code",
      "source": [
        "number = int(input(\"Enter a number: \"))   # to take input from the user\n",
        "\n",
        "if number>1: # as prime numbers are greater than 1\n",
        "  for i in range (2, number):\n",
        "    #to check for the factors\n",
        "    if (number % i) == 0:\n",
        "      print (number, \"is not a prime number\")\n",
        "      print (i, \"times\", number//i, \"is\", number)\n",
        "      break\n",
        "  else:\n",
        "    print(number, \"is a prime number\")\n",
        "else:\n",
        "  print(number, \"is not a prime number\") # if input number is less than or equal to 1 then it is not a prime number"
      ],
      "metadata": {
        "colab": {
          "base_uri": "https://localhost:8080/"
        },
        "id": "k86rp5O1uh-p",
        "outputId": "578c70f2-18d8-4eae-e34a-0de521db0565"
      },
      "execution_count": 17,
      "outputs": [
        {
          "output_type": "stream",
          "name": "stdout",
          "text": [
            "Enter a number: 12\n",
            "12 is not a prime number\n",
            "2 times 6 is 12\n"
          ]
        }
      ]
    },
    {
      "cell_type": "code",
      "source": [
        ""
      ],
      "metadata": {
        "id": "Yqhg1QKmyliV"
      },
      "execution_count": 17,
      "outputs": []
    }
  ]
}